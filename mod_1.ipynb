{
 "cells": [
  {
   "cell_type": "code",
   "execution_count": 1,
   "id": "b2f641e5",
   "metadata": {},
   "outputs": [
    {
     "name": "stdout",
     "output_type": "stream",
     "text": [
      "Random integers between 0 and 9: \n",
      "2\n",
      "2\n",
      "3\n",
      "3\n",
      "1\n",
      "8\n",
      "0\n",
      "8\n",
      "4\n",
      "4\n",
      "7\n"
     ]
    }
   ],
   "source": [
    "import random\n",
    " \n",
    " \n",
    "print(\"Random integers between 0 and 9: \")\n",
    "for i in range(4, 15):\n",
    "     y = random.randrange(9)\n",
    "     print(y)"
   ]
  },
  {
   "cell_type": "code",
   "execution_count": 2,
   "id": "32cbab12",
   "metadata": {},
   "outputs": [
    {
     "name": "stdout",
     "output_type": "stream",
     "text": [
      "Random integers between 0 and 9: \n",
      "7\n",
      "7\n",
      "0\n",
      "8\n",
      "8\n",
      "2\n",
      "2\n",
      "2\n",
      "8\n",
      "8\n",
      "0\n"
     ]
    }
   ],
   "source": [
    "import random\n",
    " \n",
    " \n",
    "print(\"Random integers between 0 and 9: \")\n",
    "for i in range(4, 15):\n",
    "     y = random.randrange(9)\n",
    "     print(y)"
   ]
  },
  {
   "cell_type": "code",
   "execution_count": 13,
   "id": "7b301a2e",
   "metadata": {},
   "outputs": [
    {
     "name": "stdout",
     "output_type": "stream",
     "text": [
      "[804, 207, 673, 598, 502, 931, 748, 452, 419, 845, 408, 60, 556, 847, 720, 337, 334, 153, 983, 537, 165, 475, 645, 605, 233, 782, 473, 451, 455, 888, 916, 938, 666, 198, 789, 498, 104, 101, 331, 868, 376, 221, 27, 683, 217]\n",
      "[49, 56, 91, 99, 126, 139, 161, 174, 184, 189, 205, 217, 233, 236, 281, 299, 312, 394, 398, 399, 461, 470, 517, 537, 543, 558, 575, 587, 599, 671, 690, 703, 710, 713, 741, 768, 827, 870, 880, 920, 924, 963, 973, 983, 985]\n"
     ]
    }
   ],
   "source": [
    "import numpy as np\n",
    "def Rand(start, end, num):\n",
    "    res = []\n",
    " \n",
    "    for j in range(num):\n",
    "        res.append(np.random.randint(start, end))\n",
    " \n",
    "    return res\n",
    " \n",
    " \n",
    "# Driver Code\n",
    "num = 45\n",
    "start = 1\n",
    "end = 1000\n",
    "print(Rand(start, end, num))\n",
    "s  = Rand(start, end, num)\n",
    "\n",
    "for k in range(len(s)):\n",
    "    for m in range(len(s)-1):\n",
    "        if s[m]>s[m+1]:\n",
    "            s[m],s[m+1] = s[m+1],s[m]\n",
    "print(s)\n",
    "\n"
   ]
  },
  {
   "cell_type": "code",
   "execution_count": 8,
   "id": "b42f021e",
   "metadata": {},
   "outputs": [
    {
     "name": "stdout",
     "output_type": "stream",
     "text": [
      "[937, 496, 376, 315, 321, 309, 650, 578, 839, 180, 644, 268, 312, 574, 893, 937, 545, 149, 667, 746, 791, 558, 779, 506, 359, 33, 696, 603, 458, 955, 867, 407, 767, 442, 248, 404, 835, 969, 208, 34, 245, 502, 838, 307, 584]\n"
     ]
    }
   ],
   "source": [
    "print(data)"
   ]
  },
  {
   "cell_type": "code",
   "execution_count": 28,
   "id": "7a030e16",
   "metadata": {},
   "outputs": [
    {
     "name": "stdout",
     "output_type": "stream",
     "text": [
      "Odd number list is : [25, 31, 51, 69, 69, 77, 81, 91, 133, 151, 167, 179, 189, 229, 229, 245, 259, 263, 289, 301, 361, 367, 367, 397, 399, 433, 437, 449, 469, 511, 515, 525, 537, 543, 599, 669, 695, 725, 729, 743, 751, 757, 765, 883, 887, 953, 961, 985]\n",
      "Average of odd numbers is : 427.9166666666667\n",
      "Even number list is : [26, 66, 110, 112, 136, 144, 234, 234, 238, 286, 300, 312, 328, 338, 338, 372, 380, 394, 400, 402, 436, 456, 508, 510, 516, 532, 560, 582, 606, 610, 622, 624, 624, 628, 682, 694, 728, 756, 758, 764, 798, 800, 822, 848, 858, 860, 878, 922, 924, 934, 970, 998]\n",
      "Average of even numbers is : 537.6538461538462\n"
     ]
    }
   ],
   "source": [
    "import numpy as np   \n",
    "\n",
    "def Rand(start,end,num): ####Function to create random numbers based on the required range (start and end)\n",
    "    res = []\n",
    "    for j in range(num):\n",
    "        res.append(np.random.randint(start, end))\n",
    " \n",
    "    return res\n",
    "\n",
    "\n",
    "def Sorted(s): # Function to sort the numbers in increasing order\n",
    "    for k in range(len(s)):\n",
    "        for m in range(len(s)-1):\n",
    "            if s[m]>s[m+1]:\n",
    "                s[m],s[m+1] = s[m+1],s[m]\n",
    "    return s\n",
    "\n",
    "\n",
    "\n",
    "def Average_odd_even(r): #Function to split the numbers to odd and even and get the corresponding average value\n",
    "    odd_numbers = 0\n",
    "    even_numbers = 0\n",
    "    sum_odd = 0\n",
    "    sum_even = 0\n",
    "    odd_List = []\n",
    "    even_List = []\n",
    "    \n",
    "    for ele in r:\n",
    "        if ele % 2 == 1:\n",
    "            sum_odd = sum_odd + ele\n",
    "            odd_numbers += 1\n",
    "            odd_List.append(ele)\n",
    "        if ele % 2 == 0:\n",
    "            sum_even = sum_even + ele\n",
    "            even_numbers += 1\n",
    "            even_List.append(ele)\n",
    "    return sum_odd/odd_numbers , sum_even/even_numbers , odd_List , even_List\n",
    "    \n",
    " \n",
    "# Driver Code \n",
    "num = 100 # Total randon numbers to be created\n",
    "start = 1 # Starting range of random numbers\n",
    "end = 1001 # Ending range of random numbers\n",
    "#print(Rand(start, end, num))\n",
    "p  = Rand(start, end, num) # function call to create random numbers\n",
    "z = Sorted(p) # function call to sort the random numbers\n",
    "\n",
    "c , d , e , f = Average_odd_even(z) # function call to get the odd number list , even number list and average of odd and even numbers\n",
    "\n",
    "print('Odd number list is :' , e) #Prints the list of odd numbers\n",
    "print('Average of odd numbers is :' , c) #Prints the average of odd numbers\n",
    "\n",
    "print('Even number list is :' , f) #Prints the list of even numbers\n",
    "print('Average of even numbers is :' , d)  #Prints the average of even numbers\n",
    "\n",
    "\n",
    "\n",
    "\n"
   ]
  },
  {
   "cell_type": "code",
   "execution_count": 73,
   "id": "ae3d575b",
   "metadata": {},
   "outputs": [
    {
     "name": "stdout",
     "output_type": "stream",
     "text": [
      "2.0\n"
     ]
    }
   ],
   "source": [
    "def add_odd_numbers(max_list_value):\n",
    "    numbers = range(0, max_list_value)\n",
    "    total = 0\n",
    "    i=0\n",
    "    for num in numbers:\n",
    "        if num % 2 == 1:\n",
    "            total += num\n",
    "            i=i+1\n",
    "    return (total/i)\n",
    "\n",
    "\n",
    "\n",
    "print(add_odd_numbers(4))"
   ]
  },
  {
   "cell_type": "code",
   "execution_count": 69,
   "id": "d7b45cfa",
   "metadata": {},
   "outputs": [
    {
     "name": "stdout",
     "output_type": "stream",
     "text": [
      "[8, 5]\n"
     ]
    }
   ],
   "source": [
    "import numpy as np\n",
    "def Rand(start,end,num):\n",
    "    res = []\n",
    "    for j in range(1,num):\n",
    "        res.append(np.random.randint(start, end))\n",
    " \n",
    "    return res\n",
    "\n",
    "num = 3\n",
    "start = 1\n",
    "end = 10\n",
    "#print(Rand(start, end, num))\n",
    "s  = Rand(start, end, num)\n",
    "\n",
    "print(s)\n"
   ]
  },
  {
   "cell_type": "code",
   "execution_count": 99,
   "id": "433279b2",
   "metadata": {},
   "outputs": [
    {
     "ename": "AttributeError",
     "evalue": "module 'numpy.random' has no attribute 'randstr'",
     "output_type": "error",
     "traceback": [
      "\u001b[1;31m---------------------------------------------------------------------------\u001b[0m",
      "\u001b[1;31mAttributeError\u001b[0m                            Traceback (most recent call last)",
      "\u001b[1;32m~\\AppData\\Local\\Temp\\ipykernel_13452\\436791763.py\u001b[0m in \u001b[0;36m<module>\u001b[1;34m\u001b[0m\n\u001b[0;32m      1\u001b[0m \u001b[1;32mimport\u001b[0m \u001b[0mnumpy\u001b[0m \u001b[1;32mas\u001b[0m \u001b[0mnp\u001b[0m\u001b[1;33m\u001b[0m\u001b[1;33m\u001b[0m\u001b[0m\n\u001b[1;32m----> 2\u001b[1;33m \u001b[0ms\u001b[0m\u001b[1;33m=\u001b[0m\u001b[0mnp\u001b[0m\u001b[1;33m.\u001b[0m\u001b[0mrandom\u001b[0m\u001b[1;33m.\u001b[0m\u001b[0mrandstr\u001b[0m\u001b[1;33m(\u001b[0m\u001b[0ma\u001b[0m\u001b[1;33m,\u001b[0m \u001b[0mg\u001b[0m\u001b[1;33m)\u001b[0m\u001b[1;33m\u001b[0m\u001b[1;33m\u001b[0m\u001b[0m\n\u001b[0m\u001b[0;32m      3\u001b[0m \u001b[0mprint\u001b[0m\u001b[1;33m(\u001b[0m\u001b[0ms\u001b[0m\u001b[1;33m)\u001b[0m\u001b[1;33m\u001b[0m\u001b[1;33m\u001b[0m\u001b[0m\n",
      "\u001b[1;31mAttributeError\u001b[0m: module 'numpy.random' has no attribute 'randstr'"
     ]
    }
   ],
   "source": [
    "import numpy as np\n",
    "s=np.random.randstr(a, g)\n",
    "print(s)"
   ]
  },
  {
   "cell_type": "code",
   "execution_count": 31,
   "id": "ab0aba2c",
   "metadata": {},
   "outputs": [
    {
     "name": "stdout",
     "output_type": "stream",
     "text": [
      "   calories  duration\n",
      "0       420        50\n",
      "1       380        40\n",
      "2       390        45\n"
     ]
    }
   ],
   "source": [
    "import pandas as pd\n",
    "\n",
    "data = {\n",
    "  'calories': [420, 380, 390],\n",
    "  'duration': [50, 40, 45]\n",
    "}\n",
    "\n",
    "#load data into a DataFrame object:\n",
    "df = pd.DataFrame(data)\n",
    "print(df)"
   ]
  },
  {
   "cell_type": "code",
   "execution_count": 35,
   "id": "7238e1d6",
   "metadata": {},
   "outputs": [
    {
     "name": "stdout",
     "output_type": "stream",
     "text": [
      "   calories  duration  age\n",
      "0       420        50   23\n",
      "1       380        40   45\n",
      "2       390        45   67\n"
     ]
    }
   ],
   "source": [
    "import pandas as pd\n",
    "\n",
    "data = {\n",
    "  \"calories\": [420, 380, 390],\n",
    "  \"duration\": [50, 40, 45],\n",
    "  \"age\": [23,45,67]\n",
    "}\n",
    "\n",
    "#load data into a DataFrame object:\n",
    "df = pd.DataFrame(data)\n",
    "print(df)"
   ]
  },
  {
   "cell_type": "code",
   "execution_count": null,
   "id": "8487f10c",
   "metadata": {},
   "outputs": [],
   "source": []
  }
 ],
 "metadata": {
  "kernelspec": {
   "display_name": "Python 3 (ipykernel)",
   "language": "python",
   "name": "python3"
  },
  "language_info": {
   "codemirror_mode": {
    "name": "ipython",
    "version": 3
   },
   "file_extension": ".py",
   "mimetype": "text/x-python",
   "name": "python",
   "nbconvert_exporter": "python",
   "pygments_lexer": "ipython3",
   "version": "3.9.13"
  }
 },
 "nbformat": 4,
 "nbformat_minor": 5
}
